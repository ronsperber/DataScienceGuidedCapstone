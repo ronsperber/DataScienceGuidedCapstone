{
 "cells": [
  {
   "cell_type": "code",
   "execution_count": 1,
   "id": "2a33ab20",
   "metadata": {},
   "outputs": [
    {
     "name": "stdout",
     "output_type": "stream",
     "text": [
      "10\n",
      "12\n",
      "16\n",
      "20\n",
      "26\n",
      "33\n",
      "42\n",
      "54\n",
      "69\n",
      "88\n",
      "112\n",
      "143\n",
      "183\n",
      "233\n",
      "297\n",
      "379\n",
      "483\n",
      "615\n",
      "784\n",
      "1000\n"
     ]
    }
   ],
   "source": [
    "import numpy as np\n",
    "for n in np.logspace(start=1,stop=3,num=20):\n",
    "    print(int(n))"
   ]
  },
  {
   "cell_type": "code",
   "execution_count": null,
   "id": "0c762a32",
   "metadata": {},
   "outputs": [],
   "source": []
  }
 ],
 "metadata": {
  "kernelspec": {
   "display_name": "Python 3",
   "language": "python",
   "name": "python3"
  },
  "language_info": {
   "codemirror_mode": {
    "name": "ipython",
    "version": 3
   },
   "file_extension": ".py",
   "mimetype": "text/x-python",
   "name": "python",
   "nbconvert_exporter": "python",
   "pygments_lexer": "ipython3",
   "version": "3.8.8"
  }
 },
 "nbformat": 4,
 "nbformat_minor": 5
}
